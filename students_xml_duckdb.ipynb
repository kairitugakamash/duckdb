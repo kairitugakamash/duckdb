{
 "cells": [
  {
   "cell_type": "markdown",
   "id": "59ffdc60-1023-4cf8-a383-d23cca5ca596",
   "metadata": {},
   "source": [
    "# xml Parser"
   ]
  },
  {
   "cell_type": "code",
   "execution_count": 1,
   "id": "bc25799c-a23a-4ea6-b89e-d7faca02030e",
   "metadata": {},
   "outputs": [],
   "source": [
    "# import xml element tree \n",
    "import xml.etree.ElementTree as ET "
   ]
  },
  {
   "cell_type": "code",
   "execution_count": 2,
   "id": "97a00ab9-9177-48d1-bc6f-9fe5a7157472",
   "metadata": {},
   "outputs": [],
   "source": [
    "# reading xml file , file name is vignan.xml \n",
    "tree = ET.parse('students.xml') "
   ]
  },
  {
   "cell_type": "code",
   "execution_count": 3,
   "id": "9f0208c8-80a0-4d52-8ed5-c67657030a6a",
   "metadata": {},
   "outputs": [
    {
     "data": {
      "text/plain": [
       "[<Element 'student' at 0x00000239C391DDB0>,\n",
       " <Element 'student' at 0x00000239C391DEF0>,\n",
       " <Element 'student' at 0x00000239C3924090>,\n",
       " <Element 'student' at 0x00000239C39241D0>,\n",
       " <Element 'student' at 0x00000239C3924310>]"
      ]
     },
     "execution_count": 3,
     "metadata": {},
     "output_type": "execute_result"
    }
   ],
   "source": [
    "# in our xml file student is the root for all \n",
    "# student data. \n",
    "data2 = tree.findall('student')\n",
    "data2"
   ]
  },
  {
   "cell_type": "code",
   "execution_count": 4,
   "id": "4fffadfb-b0d5-4a1f-b82d-42579fecbbe9",
   "metadata": {},
   "outputs": [
    {
     "name": "stdout",
     "output_type": "stream",
     "text": [
      "Defaulting to user installation because normal site-packages is not writeableNote: you may need to restart the kernel to use updated packages.\n",
      "\n",
      "Requirement already satisfied: duckdb in c:\\users\\jane.waweru\\appdata\\roaming\\python\\python39\\site-packages (1.1.3)\n"
     ]
    },
    {
     "name": "stderr",
     "output_type": "stream",
     "text": [
      "WARNING: Ignoring invalid distribution -rotobuf (c:\\users\\jane.waweru\\appdata\\roaming\\python\\python39\\site-packages)\n",
      "WARNING: Ignoring invalid distribution -rotobuf (c:\\users\\jane.waweru\\appdata\\roaming\\python\\python39\\site-packages)\n",
      "WARNING: Ignoring invalid distribution -rotobuf (c:\\users\\jane.waweru\\appdata\\roaming\\python\\python39\\site-packages)\n"
     ]
    }
   ],
   "source": [
    "pip install duckdb"
   ]
  },
  {
   "cell_type": "code",
   "execution_count": 5,
   "id": "d4ba9cb0-0c9f-431a-b89a-5bf92539fb7f",
   "metadata": {},
   "outputs": [],
   "source": [
    "import duckdb as dd\n",
    "\n",
    "# Create a persistent DuckDB database\n",
    "con = dd.connect('my_database1.db')"
   ]
  },
  {
   "cell_type": "code",
   "execution_count": 6,
   "id": "eae729b8-8d70-4c26-a5a9-a994637916ac",
   "metadata": {},
   "outputs": [
    {
     "data": {
      "text/plain": [
       "┌──────────────┬─────────┬──────────────┬────────────────────────────────────────────────────────────────────────────────────────────────────────────────────────────────────────────────────────────────────┬─────────────────────────────────────────────────────────────────────────────────────────────────────┬───────────┐\n",
       "│   database   │ schema  │     name     │                                                                            column_names                                                                            │                                            column_types                                             │ temporary │\n",
       "│   varchar    │ varchar │   varchar    │                                                                             varchar[]                                                                              │                                              varchar[]                                              │  boolean  │\n",
       "├──────────────┼─────────┼──────────────┼────────────────────────────────────────────────────────────────────────────────────────────────────────────────────────────────────────────────────────────────────┼─────────────────────────────────────────────────────────────────────────────────────────────────────┼───────────┤\n",
       "│ my_database1 │ main    │ allcountries │ [country, country_code1, country_code2, country_code, iso_3166_2, region, sub_region, intermediate_region, region_code, sub_region_code, intermediate_region_code] │ [VARCHAR, VARCHAR, VARCHAR, INTEGER, VARCHAR, VARCHAR, VARCHAR, VARCHAR, INTEGER, INTEGER, INTEGER] │ false     │\n",
       "│ my_database1 │ main    │ countries1   │ [country, country_code1, country_code2, country_code, region, sub_region, intermediate_region, region_code, sub_region_code, intermediate_region_code]             │ [VARCHAR, VARCHAR, VARCHAR, INTEGER, VARCHAR, VARCHAR, VARCHAR, INTEGER, INTEGER, INTEGER]          │ false     │\n",
       "│ my_database1 │ main    │ employees    │ [id, name, age, salary]                                                                                                                                            │ [INTEGER, VARCHAR, INTEGER, DOUBLE]                                                                 │ false     │\n",
       "│ my_database1 │ main    │ temps        │ [ID, Action]                                                                                                                                                       │ [VARCHAR, VARCHAR]                                                                                  │ false     │\n",
       "│ my_database1 │ main    │ vignan       │ [name, id, department]                                                                                                                                             │ [VARCHAR, VARCHAR, VARCHAR]                                                                         │ false     │\n",
       "│ my_database1 │ main    │ xml_students │ [name, id, department]                                                                                                                                             │ [VARCHAR, VARCHAR, VARCHAR]                                                                         │ false     │\n",
       "└──────────────┴─────────┴──────────────┴────────────────────────────────────────────────────────────────────────────────────────────────────────────────────────────────────────────────────────────────────┴─────────────────────────────────────────────────────────────────────────────────────────────────────┴───────────┘"
      ]
     },
     "execution_count": 6,
     "metadata": {},
     "output_type": "execute_result"
    }
   ],
   "source": [
    "# Create second table\n",
    "con.execute('''\n",
    "CREATE OR REPLACE TABLE xml_students(\n",
    "    name VARCHAR,\n",
    "    id VARCHAR,\n",
    "    department VARCHAR\n",
    ");\n",
    "''')\n",
    "\n",
    "# Result of showing tables after creating the second table\n",
    "con.sql('SHOW ALL TABLES')"
   ]
  },
  {
   "cell_type": "code",
   "execution_count": 8,
   "id": "4f4a1592-ac49-4feb-80c2-fcf0e2ae2d23",
   "metadata": {},
   "outputs": [],
   "source": [
    "import pandas as pd\n",
    "\n",
    "name = []\n",
    "ids = []\n",
    "department = []\n",
    "\n",
    "for i, j in zip(data2, range(1, 6)): \n",
    "\tname.append(i.find('name').text)\n",
    "\tids.append(i.find('id').text)\n",
    "\tdepartment.append(i.find('department').text)\n",
    "\t\n",
    "\t# # sql query to insert data into database \n",
    "\t# data = con.sql(\"\"\"\n",
    "\t# INSERT INTO vignan(name,id,department) VALUES(%s,%s,%s)\n",
    "\t# \"\"\")\n",
    "    \n",
    "    \n",
    "df = pd.DataFrame({'name': name,\n",
    "                   'ids': ids,\n",
    "                   'department': department}, \n",
    "                  columns = ['name', 'ids', 'department']\n",
    "                 )"
   ]
  },
  {
   "cell_type": "code",
   "execution_count": 9,
   "id": "f735c5c2-6bee-40ef-9104-a7c3cae3aef8",
   "metadata": {},
   "outputs": [],
   "source": [
    "con.sql('''\n",
    "        INSERT INTO xml_students (name, id, department)\n",
    "        SELECT * FROM df\n",
    "''')"
   ]
  },
  {
   "cell_type": "code",
   "execution_count": 10,
   "id": "bbe67528-6ff0-4489-a8f5-fb2669893c50",
   "metadata": {},
   "outputs": [
    {
     "data": {
      "text/plain": [
       "┌──────────────┬─────────┬────────────┐\n",
       "│     name     │   id    │ department │\n",
       "│   varchar    │ varchar │  varchar   │\n",
       "├──────────────┼─────────┼────────────┤\n",
       "│ Sravan Kumar │ 7058    │ IT         │\n",
       "│ Meghana      │ 7034    │ IT         │\n",
       "│ Pranathi     │ 7046    │ EEE        │\n",
       "│ Durga        │ 7078    │ Mech       │\n",
       "│ Ishitha      │ 7093    │ MBA        │\n",
       "└──────────────┴─────────┴────────────┘"
      ]
     },
     "execution_count": 10,
     "metadata": {},
     "output_type": "execute_result"
    }
   ],
   "source": [
    "con.sql('''\n",
    "            SELECT * FROM vignan\n",
    "''')"
   ]
  },
  {
   "cell_type": "code",
   "execution_count": 11,
   "id": "d3969464-b894-4741-91ce-90a66d1e754f",
   "metadata": {},
   "outputs": [
    {
     "data": {
      "text/plain": [
       "┌──────────────┐\n",
       "│     name     │\n",
       "│   varchar    │\n",
       "├──────────────┤\n",
       "│ allcountries │\n",
       "│ countries1   │\n",
       "│ employees    │\n",
       "│ temps        │\n",
       "│ vignan       │\n",
       "│ xml_students │\n",
       "└──────────────┘"
      ]
     },
     "execution_count": 11,
     "metadata": {},
     "output_type": "execute_result"
    }
   ],
   "source": [
    "con.sql('''\n",
    "            SHOW TABLES\n",
    "''')"
   ]
  },
  {
   "cell_type": "code",
   "execution_count": null,
   "id": "0fee12f7-a7ba-426c-a06e-30384b9bcf98",
   "metadata": {},
   "outputs": [],
   "source": []
  }
 ],
 "metadata": {
  "kernelspec": {
   "display_name": "Python 3 (ipykernel)",
   "language": "python",
   "name": "python3"
  },
  "language_info": {
   "codemirror_mode": {
    "name": "ipython",
    "version": 3
   },
   "file_extension": ".py",
   "mimetype": "text/x-python",
   "name": "python",
   "nbconvert_exporter": "python",
   "pygments_lexer": "ipython3",
   "version": "3.9.13"
  }
 },
 "nbformat": 4,
 "nbformat_minor": 5
}
