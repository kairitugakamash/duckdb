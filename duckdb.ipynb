{
 "cells": [
  {
   "cell_type": "code",
   "execution_count": 1,
   "id": "34029b87-4a7e-4924-9d87-ace3fd87f3b3",
   "metadata": {},
   "outputs": [
    {
     "name": "stdout",
     "output_type": "stream",
     "text": [
      "Defaulting to user installation because normal site-packages is not writeableNote: you may need to restart the kernel to use updated packages.\n",
      "\n",
      "Requirement already satisfied: duckdb in c:\\users\\jane.waweru\\appdata\\roaming\\python\\python39\\site-packages (1.1.3)\n"
     ]
    },
    {
     "name": "stderr",
     "output_type": "stream",
     "text": [
      "WARNING: Ignoring invalid distribution -rotobuf (c:\\users\\jane.waweru\\appdata\\roaming\\python\\python39\\site-packages)\n",
      "WARNING: Ignoring invalid distribution -rotobuf (c:\\users\\jane.waweru\\appdata\\roaming\\python\\python39\\site-packages)\n",
      "WARNING: Ignoring invalid distribution -rotobuf (c:\\users\\jane.waweru\\appdata\\roaming\\python\\python39\\site-packages)\n"
     ]
    }
   ],
   "source": [
    "pip install duckdb"
   ]
  },
  {
   "cell_type": "code",
   "execution_count": null,
   "id": "2f0253db-45a9-4eed-bb9d-1b0108149864",
   "metadata": {},
   "outputs": [],
   "source": [
    "# import duckdb as dd\n",
    "\n",
    "# # Create an in-memory DuckDB connection\n",
    "# con = dd.connect(':memory:')"
   ]
  },
  {
   "cell_type": "code",
   "execution_count": 2,
   "id": "106e6d77-5131-41ee-9c32-55b9d8794818",
   "metadata": {},
   "outputs": [],
   "source": [
    "import duckdb as dd\n",
    "\n",
    "# Create a persistent DuckDB database\n",
    "con = dd.connect('my_database1.db')"
   ]
  },
  {
   "cell_type": "code",
   "execution_count": 3,
   "id": "ed5652a1-d852-451a-a73b-66b750ef069b",
   "metadata": {},
   "outputs": [
    {
     "name": "stdout",
     "output_type": "stream",
     "text": [
      "┌────────────┐\n",
      "│     ID     │\n",
      "│   int64    │\n",
      "├────────────┤\n",
      "│          0 │\n",
      "│          1 │\n",
      "│          2 │\n",
      "│          3 │\n",
      "│          4 │\n",
      "│          5 │\n",
      "│          6 │\n",
      "│          7 │\n",
      "│          8 │\n",
      "│          9 │\n",
      "│          · │\n",
      "│          · │\n",
      "│          · │\n",
      "│        990 │\n",
      "│        991 │\n",
      "│        992 │\n",
      "│        993 │\n",
      "│        994 │\n",
      "│        995 │\n",
      "│        996 │\n",
      "│        997 │\n",
      "│        998 │\n",
      "│        999 │\n",
      "├────────────┤\n",
      "│ 1000 rows  │\n",
      "│ (20 shown) │\n",
      "└────────────┘\n",
      "\n"
     ]
    }
   ],
   "source": [
    "import duckdb as db\n",
    "\n",
    "# Create a relation from a SQL query\n",
    "rel = db.sql(\"SELECT * FROM range(10_00) AS tbl(ID)\")\n",
    "# Display the relation\n",
    "rel.show()"
   ]
  },
  {
   "cell_type": "code",
   "execution_count": 4,
   "id": "18548643-4449-4d07-80df-3f88af7a4fa6",
   "metadata": {},
   "outputs": [
    {
     "data": {
      "text/plain": [
       "┌──────────┬─────────┬─────────┬──────────────┬──────────────┬───────────┐\n",
       "│ database │ schema  │  name   │ column_names │ column_types │ temporary │\n",
       "│ varchar  │ varchar │ varchar │  varchar[]   │  varchar[]   │  boolean  │\n",
       "├──────────┴─────────┴─────────┴──────────────┴──────────────┴───────────┤\n",
       "│                                 0 rows                                 │\n",
       "└────────────────────────────────────────────────────────────────────────┘"
      ]
     },
     "execution_count": 4,
     "metadata": {},
     "output_type": "execute_result"
    }
   ],
   "source": [
    "con.sql('SHOW ALL TABLES')"
   ]
  },
  {
   "cell_type": "code",
   "execution_count": 5,
   "id": "10e5a958-99c0-46a5-9002-00d19f3f0724",
   "metadata": {},
   "outputs": [
    {
     "data": {
      "text/plain": [
       "┌──────────────┬─────────┬───────────┬─────────────────────────┬─────────────────────────────────────┬───────────┐\n",
       "│   database   │ schema  │   name    │      column_names       │            column_types             │ temporary │\n",
       "│   varchar    │ varchar │  varchar  │        varchar[]        │              varchar[]              │  boolean  │\n",
       "├──────────────┼─────────┼───────────┼─────────────────────────┼─────────────────────────────────────┼───────────┤\n",
       "│ my_database1 │ main    │ employees │ [id, name, age, salary] │ [INTEGER, VARCHAR, INTEGER, DOUBLE] │ false     │\n",
       "└──────────────┴─────────┴───────────┴─────────────────────────┴─────────────────────────────────────┴───────────┘"
      ]
     },
     "execution_count": 5,
     "metadata": {},
     "output_type": "execute_result"
    }
   ],
   "source": [
    "# Create second table\n",
    "con.execute('''\n",
    "CREATE OR REPLACE TABLE employees(\n",
    "    id INTEGER,\n",
    "    name VARCHAR,\n",
    "    age INTEGER,\n",
    "    salary DOUBLE\n",
    ");\n",
    "''')\n",
    "\n",
    "# Insert some data in second table\n",
    "con.execute('''\n",
    "INSERT INTO employees VALUES\n",
    "(1, 'Person 1', 30, 70000),\n",
    "(2, 'Person 2', 25, 55000),\n",
    "(3, 'Person 3', 35, 80000),\n",
    "(4, 'Person 4', 45, 87000),\n",
    "(5, 'Person 5', 43, 40000),\n",
    "(6, 'Person 6', 65, 48000);\n",
    "''')\n",
    "\n",
    "\n",
    "# Result of showing tables after creating the second table\n",
    "con.sql('SHOW ALL TABLES')"
   ]
  },
  {
   "cell_type": "code",
   "execution_count": 6,
   "id": "13837b0d-e494-4cf9-812b-e856adf007c9",
   "metadata": {},
   "outputs": [
    {
     "data": {
      "text/plain": [
       "┌───────┬──────────┬───────┬─────────┐\n",
       "│  id   │   name   │  age  │ salary  │\n",
       "│ int32 │ varchar  │ int32 │ double  │\n",
       "├───────┼──────────┼───────┼─────────┤\n",
       "│     1 │ Person 1 │    30 │ 70000.0 │\n",
       "│     2 │ Person 2 │    25 │ 55000.0 │\n",
       "│     3 │ Person 3 │    35 │ 80000.0 │\n",
       "│     4 │ Person 4 │    45 │ 87000.0 │\n",
       "│     5 │ Person 5 │    43 │ 40000.0 │\n",
       "│     6 │ Person 6 │    65 │ 48000.0 │\n",
       "└───────┴──────────┴───────┴─────────┘"
      ]
     },
     "execution_count": 6,
     "metadata": {},
     "output_type": "execute_result"
    }
   ],
   "source": [
    "con.sql('SELECT * FROM employees;')"
   ]
  },
  {
   "cell_type": "markdown",
   "id": "b8bb9398-6792-4361-ae9a-d1ca38f9370a",
   "metadata": {},
   "source": [
    "# Ingesting and Working with Data directly from files"
   ]
  },
  {
   "cell_type": "code",
   "execution_count": 7,
   "id": "d45fb9d0-3609-42d0-9312-e71c32551e98",
   "metadata": {},
   "outputs": [
    {
     "data": {
      "text/plain": [
       "┌───────┬────────────┬───────┬──────────┐\n",
       "│  id   │    name    │  age  │  salary  │\n",
       "│ int32 │  varchar   │ int32 │  double  │\n",
       "├───────┼────────────┼───────┼──────────┤\n",
       "│     1 │ Person 1   │    30 │  70000.0 │\n",
       "│     2 │ Person 2   │    25 │  55000.0 │\n",
       "│     3 │ Person 3   │    35 │  80000.0 │\n",
       "│     4 │ Person 4   │    45 │  87000.0 │\n",
       "│     5 │ Person 5   │    43 │  40000.0 │\n",
       "│     6 │ Person 6   │    65 │  48000.0 │\n",
       "│    17 │ employee17 │    56 │ 100000.0 │\n",
       "│    18 │ employee18 │    76 │ 125000.0 │\n",
       "│    19 │ employee19 │    66 │  90000.0 │\n",
       "│    20 │ employee20 │    45 │ 100000.0 │\n",
       "├───────┴────────────┴───────┴──────────┤\n",
       "│ 10 rows                     4 columns │\n",
       "└───────────────────────────────────────┘"
      ]
     },
     "execution_count": 7,
     "metadata": {},
     "output_type": "execute_result"
    }
   ],
   "source": [
    "con.sql('''\n",
    "        INSERT INTO employees (id, name, age, salary) \n",
    "        (SELECT * FROM \"employees.csv\")\n",
    "''')\n",
    "con.sql('SELECT * FROM employees LIMIT 25;')"
   ]
  },
  {
   "cell_type": "markdown",
   "id": "2d5ac345-0394-410d-9d18-f638dcfb3c8b",
   "metadata": {},
   "source": [
    "# Create country1 table and ingest data from countries1.csv"
   ]
  },
  {
   "cell_type": "code",
   "execution_count": 8,
   "id": "8b25a344-a768-4991-8600-7764e5ae2232",
   "metadata": {},
   "outputs": [
    {
     "data": {
      "text/plain": [
       "┌─────────────────────┬───────────────┬───────────────┬──────────────┬──────────┬─────────────────────────────────┬─────────────────────┬─────────────┬─────────────────┬──────────────────────────┐\n",
       "│       country       │ country_code1 │ country_code2 │ country_code │  region  │           sub_region            │ intermediate_region │ region_code │ sub_region_code │ intermediate_region_code │\n",
       "│       varchar       │    varchar    │    varchar    │    int32     │ varchar  │             varchar             │       varchar       │    int32    │      int32      │          int32           │\n",
       "├─────────────────────┼───────────────┼───────────────┼──────────────┼──────────┼─────────────────────────────────┼─────────────────────┼─────────────┼─────────────────┼──────────────────────────┤\n",
       "│ Afghanistan         │ AF            │ AFG           │            4 │ Asia     │ Southern Asia                   │ NULL                │         142 │              34 │                     NULL │\n",
       "│ Åland Islands       │ AX            │ ALA           │          248 │ Europe   │ Northern Europe                 │ NULL                │         150 │             154 │                     NULL │\n",
       "│ Albania             │ AL            │ ALB           │            8 │ Europe   │ Southern Europe                 │ NULL                │         150 │              39 │                     NULL │\n",
       "│ Algeria             │ DZ            │ DZA           │           12 │ Africa   │ Northern Africa                 │ NULL                │           2 │              15 │                     NULL │\n",
       "│ American Samoa      │ AS            │ ASM           │           16 │ Oceania  │ Polynesia                       │ NULL                │           9 │              61 │                     NULL │\n",
       "│ Andorra             │ AD            │ AND           │           20 │ Europe   │ Southern Europe                 │ NULL                │         150 │              39 │                     NULL │\n",
       "│ Angola              │ AO            │ AGO           │           24 │ Africa   │ Sub-Saharan Africa              │ Middle Africa       │           2 │             202 │                       17 │\n",
       "│ Anguilla            │ AI            │ AIA           │          660 │ Americas │ Latin America and the Caribbean │ Caribbean           │          19 │             419 │                       29 │\n",
       "│ Antarctica          │ AQ            │ ATA           │           10 │ NULL     │ NULL                            │ NULL                │        NULL │            NULL │                     NULL │\n",
       "│ Antigua and Barbuda │ AG            │ ATG           │           28 │ Americas │ Latin America and the Caribbean │ Caribbean           │          19 │             419 │                       29 │\n",
       "│     ·               │ ·             │  ·            │            · │  ·       │      ·                          │  ·                  │           · │              ·  │                        · │\n",
       "│     ·               │ ·             │  ·            │            · │  ·       │      ·                          │  ·                  │           · │              ·  │                        · │\n",
       "│     ·               │ ·             │  ·            │            · │  ·       │      ·                          │  ·                  │           · │              ·  │                        · │\n",
       "│ Azerbaijan          │ AZ            │ AZE           │           31 │ Asia     │ Western Asia                    │ NULL                │         142 │             145 │                     NULL │\n",
       "│ Bahamas             │ BS            │ BHS           │           44 │ Americas │ Latin America and the Caribbean │ Caribbean           │          19 │             419 │                       29 │\n",
       "│ Bahrain             │ BH            │ BHR           │           48 │ Asia     │ Western Asia                    │ NULL                │         142 │             145 │                     NULL │\n",
       "│ Bangladesh          │ BD            │ BGD           │           50 │ Asia     │ Southern Asia                   │ NULL                │         142 │              34 │                     NULL │\n",
       "│ Barbados            │ BB            │ BRB           │           52 │ Americas │ Latin America and the Caribbean │ Caribbean           │          19 │             419 │                       29 │\n",
       "│ Belarus             │ BY            │ BLR           │          112 │ Europe   │ Eastern Europe                  │ NULL                │         150 │             151 │                     NULL │\n",
       "│ Belgium             │ BE            │ BEL           │           56 │ Europe   │ Western Europe                  │ NULL                │         150 │             155 │                     NULL │\n",
       "│ Belize              │ BZ            │ BLZ           │           84 │ Americas │ Latin America and the Caribbean │ Central America     │          19 │             419 │                       13 │\n",
       "│ Benin               │ BJ            │ BEN           │          204 │ Africa   │ Sub-Saharan Africa              │ Western Africa      │           2 │             202 │                       11 │\n",
       "│ Bermuda             │ BM            │ BMU           │           60 │ Americas │ Northern America                │ NULL                │          19 │              21 │                     NULL │\n",
       "├─────────────────────┴───────────────┴───────────────┴──────────────┴──────────┴─────────────────────────────────┴─────────────────────┴─────────────┴─────────────────┴──────────────────────────┤\n",
       "│ 25 rows (20 shown)                                                                                                                                                                    10 columns │\n",
       "└──────────────────────────────────────────────────────────────────────────────────────────────────────────────────────────────────────────────────────────────────────────────────────────────────┘"
      ]
     },
     "execution_count": 8,
     "metadata": {},
     "output_type": "execute_result"
    }
   ],
   "source": [
    "# Create a table\n",
    "con.execute('''\n",
    "CREATE OR REPLACE TABLE countries1(\n",
    "    country VARCHAR,\n",
    "    country_code1 VARCHAR,\n",
    "    country_code2 VARCHAR,\n",
    "    country_code INTEGER,\n",
    "    region VARCHAR,\n",
    "    sub_region VARCHAR,\n",
    "    intermediate_region VARCHAR,\n",
    "    region_code INTEGER,\n",
    "    sub_region_code INTEGER,\n",
    "    intermediate_region_code INTEGER\n",
    "\n",
    ");\n",
    "''')\n",
    "\n",
    "# ingest data from csv file\n",
    "con.sql('''\n",
    "        INSERT INTO countries1 (country, country_code1, country_code2, country_code, region, sub_region, intermediate_region, region_code, sub_region_code, intermediate_region_code) \n",
    "        (SELECT * FROM \"countries1.csv\")\n",
    "''')\n",
    "\n",
    "# selec a few rows\n",
    "con.sql('SELECT * FROM countries1 LIMIT 25;')"
   ]
  },
  {
   "cell_type": "markdown",
   "id": "7d51f9ab-d2ed-453f-9abb-df58d1c3a796",
   "metadata": {},
   "source": [
    "# Create a table allcountries from all.csv"
   ]
  },
  {
   "cell_type": "code",
   "execution_count": 9,
   "id": "fef1def1-6871-4528-a635-2ba195ae1f11",
   "metadata": {},
   "outputs": [
    {
     "data": {
      "text/plain": [
       "┌─────────────────────┬───────────────┬───────────────┬──────────────┬───────────────┬──────────┬─────────────────────────────────┬─────────────────────┬─────────────┬─────────────────┬──────────────────────────┐\n",
       "│       country       │ country_code1 │ country_code2 │ country_code │  iso_3166_2   │  region  │           sub_region            │ intermediate_region │ region_code │ sub_region_code │ intermediate_region_code │\n",
       "│       varchar       │    varchar    │    varchar    │    int32     │    varchar    │ varchar  │             varchar             │       varchar       │    int32    │      int32      │          int32           │\n",
       "├─────────────────────┼───────────────┼───────────────┼──────────────┼───────────────┼──────────┼─────────────────────────────────┼─────────────────────┼─────────────┼─────────────────┼──────────────────────────┤\n",
       "│ Afghanistan         │ AF            │ AFG           │            4 │ ISO 3166-2:AF │ Asia     │ Southern Asia                   │ NULL                │         142 │              34 │                     NULL │\n",
       "│ Åland Islands       │ AX            │ ALA           │          248 │ ISO 3166-2:AX │ Europe   │ Northern Europe                 │ NULL                │         150 │             154 │                     NULL │\n",
       "│ Albania             │ AL            │ ALB           │            8 │ ISO 3166-2:AL │ Europe   │ Southern Europe                 │ NULL                │         150 │              39 │                     NULL │\n",
       "│ Algeria             │ DZ            │ DZA           │           12 │ ISO 3166-2:DZ │ Africa   │ Northern Africa                 │ NULL                │           2 │              15 │                     NULL │\n",
       "│ American Samoa      │ AS            │ ASM           │           16 │ ISO 3166-2:AS │ Oceania  │ Polynesia                       │ NULL                │           9 │              61 │                     NULL │\n",
       "│ Andorra             │ AD            │ AND           │           20 │ ISO 3166-2:AD │ Europe   │ Southern Europe                 │ NULL                │         150 │              39 │                     NULL │\n",
       "│ Angola              │ AO            │ AGO           │           24 │ ISO 3166-2:AO │ Africa   │ Sub-Saharan Africa              │ Middle Africa       │           2 │             202 │                       17 │\n",
       "│ Anguilla            │ AI            │ AIA           │          660 │ ISO 3166-2:AI │ Americas │ Latin America and the Caribbean │ Caribbean           │          19 │             419 │                       29 │\n",
       "│ Antarctica          │ AQ            │ ATA           │           10 │ ISO 3166-2:AQ │ NULL     │ NULL                            │ NULL                │        NULL │            NULL │                     NULL │\n",
       "│ Antigua and Barbuda │ AG            │ ATG           │           28 │ ISO 3166-2:AG │ Americas │ Latin America and the Caribbean │ Caribbean           │          19 │             419 │                       29 │\n",
       "│     ·               │ ·             │  ·            │            · │       ·       │  ·       │      ·                          │  ·                  │           · │              ·  │                        · │\n",
       "│     ·               │ ·             │  ·            │            · │       ·       │  ·       │      ·                          │  ·                  │           · │              ·  │                        · │\n",
       "│     ·               │ ·             │  ·            │            · │       ·       │  ·       │      ·                          │  ·                  │           · │              ·  │                        · │\n",
       "│ Azerbaijan          │ AZ            │ AZE           │           31 │ ISO 3166-2:AZ │ Asia     │ Western Asia                    │ NULL                │         142 │             145 │                     NULL │\n",
       "│ Bahamas             │ BS            │ BHS           │           44 │ ISO 3166-2:BS │ Americas │ Latin America and the Caribbean │ Caribbean           │          19 │             419 │                       29 │\n",
       "│ Bahrain             │ BH            │ BHR           │           48 │ ISO 3166-2:BH │ Asia     │ Western Asia                    │ NULL                │         142 │             145 │                     NULL │\n",
       "│ Bangladesh          │ BD            │ BGD           │           50 │ ISO 3166-2:BD │ Asia     │ Southern Asia                   │ NULL                │         142 │              34 │                     NULL │\n",
       "│ Barbados            │ BB            │ BRB           │           52 │ ISO 3166-2:BB │ Americas │ Latin America and the Caribbean │ Caribbean           │          19 │             419 │                       29 │\n",
       "│ Belarus             │ BY            │ BLR           │          112 │ ISO 3166-2:BY │ Europe   │ Eastern Europe                  │ NULL                │         150 │             151 │                     NULL │\n",
       "│ Belgium             │ BE            │ BEL           │           56 │ ISO 3166-2:BE │ Europe   │ Western Europe                  │ NULL                │         150 │             155 │                     NULL │\n",
       "│ Belize              │ BZ            │ BLZ           │           84 │ ISO 3166-2:BZ │ Americas │ Latin America and the Caribbean │ Central America     │          19 │             419 │                       13 │\n",
       "│ Benin               │ BJ            │ BEN           │          204 │ ISO 3166-2:BJ │ Africa   │ Sub-Saharan Africa              │ Western Africa      │           2 │             202 │                       11 │\n",
       "│ Bermuda             │ BM            │ BMU           │           60 │ ISO 3166-2:BM │ Americas │ Northern America                │ NULL                │          19 │              21 │                     NULL │\n",
       "├─────────────────────┴───────────────┴───────────────┴──────────────┴───────────────┴──────────┴─────────────────────────────────┴─────────────────────┴─────────────┴─────────────────┴──────────────────────────┤\n",
       "│ 25 rows (20 shown)                                                                                                                                                                                    11 columns │\n",
       "└──────────────────────────────────────────────────────────────────────────────────────────────────────────────────────────────────────────────────────────────────────────────────────────────────────────────────┘"
      ]
     },
     "execution_count": 9,
     "metadata": {},
     "output_type": "execute_result"
    }
   ],
   "source": [
    "# Create a table\n",
    "con.execute('''\n",
    "CREATE OR REPLACE TABLE allcountries(\n",
    "    country VARCHAR,\n",
    "    country_code1 VARCHAR,\n",
    "    country_code2 VARCHAR,\n",
    "    country_code INTEGER,\n",
    "    iso_3166_2 VARCHAR,\n",
    "    region VARCHAR,\n",
    "    sub_region VARCHAR,\n",
    "    intermediate_region VARCHAR,\n",
    "    region_code INTEGER,\n",
    "    sub_region_code INTEGER,\n",
    "    intermediate_region_code INTEGER\n",
    "\n",
    ");\n",
    "''')\n",
    "\n",
    "# ingest data from a file\n",
    "\n",
    "con.sql('''\n",
    "        INSERT INTO allcountries (country, country_code1, country_code2, country_code, iso_3166_2, region, sub_region, intermediate_region, region_code, sub_region_code, intermediate_region_code) \n",
    "        (SELECT * FROM \"all.csv\")\n",
    "''')\n",
    "\n",
    "# select few rows\n",
    "con.sql('SELECT * FROM allcountries LIMIT 25;')"
   ]
  },
  {
   "cell_type": "markdown",
   "id": "d280e991-2a9a-4492-8f27-6cc64778975c",
   "metadata": {},
   "source": [
    "# run queries"
   ]
  },
  {
   "cell_type": "code",
   "execution_count": 10,
   "id": "3ee310fc-ffad-46ea-9c32-805296d067d2",
   "metadata": {},
   "outputs": [
    {
     "data": {
      "text/plain": [
       "┌────────────────────────────────┬───────────────┬───────────────┬──────────────┬───────────────┬─────────┬────────────────────┬─────────────────────┬─────────────┬─────────────────┬──────────────────────────┐\n",
       "│            country             │ country_code1 │ country_code2 │ country_code │  iso_3166_2   │ region  │     sub_region     │ intermediate_region │ region_code │ sub_region_code │ intermediate_region_code │\n",
       "│            varchar             │    varchar    │    varchar    │    int32     │    varchar    │ varchar │      varchar       │       varchar       │    int32    │      int32      │          int32           │\n",
       "├────────────────────────────────┼───────────────┼───────────────┼──────────────┼───────────────┼─────────┼────────────────────┼─────────────────────┼─────────────┼─────────────────┼──────────────────────────┤\n",
       "│ Algeria                        │ DZ            │ DZA           │           12 │ ISO 3166-2:DZ │ Africa  │ Northern Africa    │ NULL                │           2 │              15 │                     NULL │\n",
       "│ Angola                         │ AO            │ AGO           │           24 │ ISO 3166-2:AO │ Africa  │ Sub-Saharan Africa │ Middle Africa       │           2 │             202 │                       17 │\n",
       "│ Benin                          │ BJ            │ BEN           │          204 │ ISO 3166-2:BJ │ Africa  │ Sub-Saharan Africa │ Western Africa      │           2 │             202 │                       11 │\n",
       "│ Botswana                       │ BW            │ BWA           │           72 │ ISO 3166-2:BW │ Africa  │ Sub-Saharan Africa │ Southern Africa     │           2 │             202 │                       18 │\n",
       "│ British Indian Ocean Territory │ IO            │ IOT           │           86 │ ISO 3166-2:IO │ Africa  │ Sub-Saharan Africa │ Eastern Africa      │           2 │             202 │                       14 │\n",
       "│ Burkina Faso                   │ BF            │ BFA           │          854 │ ISO 3166-2:BF │ Africa  │ Sub-Saharan Africa │ Western Africa      │           2 │             202 │                       11 │\n",
       "│ Burundi                        │ BI            │ BDI           │          108 │ ISO 3166-2:BI │ Africa  │ Sub-Saharan Africa │ Eastern Africa      │           2 │             202 │                       14 │\n",
       "│ Cabo Verde                     │ CV            │ CPV           │          132 │ ISO 3166-2:CV │ Africa  │ Sub-Saharan Africa │ Western Africa      │           2 │             202 │                       11 │\n",
       "│ Cameroon                       │ CM            │ CMR           │          120 │ ISO 3166-2:CM │ Africa  │ Sub-Saharan Africa │ Middle Africa       │           2 │             202 │                       17 │\n",
       "│ Central African Republic       │ CF            │ CAF           │          140 │ ISO 3166-2:CF │ Africa  │ Sub-Saharan Africa │ Middle Africa       │           2 │             202 │                       17 │\n",
       "│      ·                         │ ·             │  ·            │           ·  │       ·       │   ·     │         ·          │       ·             │           · │              ·  │                        · │\n",
       "│      ·                         │ ·             │  ·            │           ·  │       ·       │   ·     │         ·          │       ·             │           · │              ·  │                        · │\n",
       "│      ·                         │ ·             │  ·            │           ·  │       ·       │   ·     │         ·          │       ·             │           · │              ·  │                        · │\n",
       "│ South Africa                   │ ZA            │ ZAF           │          710 │ ISO 3166-2:ZA │ Africa  │ Sub-Saharan Africa │ Southern Africa     │           2 │             202 │                       18 │\n",
       "│ South Sudan                    │ SS            │ SSD           │          728 │ ISO 3166-2:SS │ Africa  │ Sub-Saharan Africa │ Eastern Africa      │           2 │             202 │                       14 │\n",
       "│ Sudan                          │ SD            │ SDN           │          729 │ ISO 3166-2:SD │ Africa  │ Northern Africa    │ NULL                │           2 │              15 │                     NULL │\n",
       "│ Tanzania, United Republic of   │ TZ            │ TZA           │          834 │ ISO 3166-2:TZ │ Africa  │ Sub-Saharan Africa │ Eastern Africa      │           2 │             202 │                       14 │\n",
       "│ Togo                           │ TG            │ TGO           │          768 │ ISO 3166-2:TG │ Africa  │ Sub-Saharan Africa │ Western Africa      │           2 │             202 │                       11 │\n",
       "│ Tunisia                        │ TN            │ TUN           │          788 │ ISO 3166-2:TN │ Africa  │ Northern Africa    │ NULL                │           2 │              15 │                     NULL │\n",
       "│ Uganda                         │ UG            │ UGA           │          800 │ ISO 3166-2:UG │ Africa  │ Sub-Saharan Africa │ Eastern Africa      │           2 │             202 │                       14 │\n",
       "│ Western Sahara                 │ EH            │ ESH           │          732 │ ISO 3166-2:EH │ Africa  │ Northern Africa    │ NULL                │           2 │              15 │                     NULL │\n",
       "│ Zambia                         │ ZM            │ ZMB           │          894 │ ISO 3166-2:ZM │ Africa  │ Sub-Saharan Africa │ Eastern Africa      │           2 │             202 │                       14 │\n",
       "│ Zimbabwe                       │ ZW            │ ZWE           │          716 │ ISO 3166-2:ZW │ Africa  │ Sub-Saharan Africa │ Eastern Africa      │           2 │             202 │                       14 │\n",
       "├────────────────────────────────┴───────────────┴───────────────┴──────────────┴───────────────┴─────────┴────────────────────┴─────────────────────┴─────────────┴─────────────────┴──────────────────────────┤\n",
       "│ 60 rows (20 shown)                                                                                                                                                                                 11 columns │\n",
       "└───────────────────────────────────────────────────────────────────────────────────────────────────────────────────────────────────────────────────────────────────────────────────────────────────────────────┘"
      ]
     },
     "execution_count": 10,
     "metadata": {},
     "output_type": "execute_result"
    }
   ],
   "source": [
    "region_asia = con.sql('''\n",
    "        SELECT  *\n",
    "            FROM\n",
    "                allcountries\n",
    "            WHERE\n",
    "                region = 'Africa'\n",
    "''')\n",
    "\n",
    "region_asia"
   ]
  },
  {
   "cell_type": "code",
   "execution_count": 12,
   "id": "6bcb2982-72b0-48ad-af1e-6cca05184e1c",
   "metadata": {},
   "outputs": [
    {
     "data": {
      "text/plain": [
       "┌────────────────┬───────────────┬───────────────┬──────────────┬───────────────┬─────────┬─────────────────┬─────────────────────┬─────────────┬─────────────────┬──────────────────────────┐\n",
       "│    country     │ country_code1 │ country_code2 │ country_code │  iso_3166_2   │ region  │   sub_region    │ intermediate_region │ region_code │ sub_region_code │ intermediate_region_code │\n",
       "│    varchar     │    varchar    │    varchar    │    int32     │    varchar    │ varchar │     varchar     │       varchar       │    int32    │      int32      │          int32           │\n",
       "├────────────────┼───────────────┼───────────────┼──────────────┼───────────────┼─────────┼─────────────────┼─────────────────────┼─────────────┼─────────────────┼──────────────────────────┤\n",
       "│ Algeria        │ DZ            │ DZA           │           12 │ ISO 3166-2:DZ │ Africa  │ Northern Africa │ NULL                │           2 │              15 │                     NULL │\n",
       "│ Egypt          │ EG            │ EGY           │          818 │ ISO 3166-2:EG │ Africa  │ Northern Africa │ NULL                │           2 │              15 │                     NULL │\n",
       "│ Libya          │ LY            │ LBY           │          434 │ ISO 3166-2:LY │ Africa  │ Northern Africa │ NULL                │           2 │              15 │                     NULL │\n",
       "│ Morocco        │ MA            │ MAR           │          504 │ ISO 3166-2:MA │ Africa  │ Northern Africa │ NULL                │           2 │              15 │                     NULL │\n",
       "│ Sudan          │ SD            │ SDN           │          729 │ ISO 3166-2:SD │ Africa  │ Northern Africa │ NULL                │           2 │              15 │                     NULL │\n",
       "│ Tunisia        │ TN            │ TUN           │          788 │ ISO 3166-2:TN │ Africa  │ Northern Africa │ NULL                │           2 │              15 │                     NULL │\n",
       "│ Western Sahara │ EH            │ ESH           │          732 │ ISO 3166-2:EH │ Africa  │ Northern Africa │ NULL                │           2 │              15 │                     NULL │\n",
       "└────────────────┴───────────────┴───────────────┴──────────────┴───────────────┴─────────┴─────────────────┴─────────────────────┴─────────────┴─────────────────┴──────────────────────────┘"
      ]
     },
     "execution_count": 12,
     "metadata": {},
     "output_type": "execute_result"
    }
   ],
   "source": [
    "western_asia = con.sql('''\n",
    "                            SELECT  *\n",
    "                                FROM\n",
    "                                    allcountries\n",
    "                                WHERE\n",
    "                                    region = 'Africa'\n",
    "                                    AND sub_region = 'Northern Africa'\n",
    "                    ''')\n",
    "\n",
    "western_asia"
   ]
  },
  {
   "cell_type": "code",
   "execution_count": 13,
   "id": "2fa80b2f-f4ae-4bbd-8d82-881fbeb2ab55",
   "metadata": {},
   "outputs": [
    {
     "data": {
      "text/plain": [
       "┌────────────────────────────────┬───────────────┬───────────────┬──────────────┬───────────────┬─────────┬────────────────────┬─────────────────────┬─────────────┬─────────────────┬──────────────────────────┐\n",
       "│            country             │ country_code1 │ country_code2 │ country_code │  iso_3166_2   │ region  │     sub_region     │ intermediate_region │ region_code │ sub_region_code │ intermediate_region_code │\n",
       "│            varchar             │    varchar    │    varchar    │    int32     │    varchar    │ varchar │      varchar       │       varchar       │    int32    │      int32      │          int32           │\n",
       "├────────────────────────────────┼───────────────┼───────────────┼──────────────┼───────────────┼─────────┼────────────────────┼─────────────────────┼─────────────┼─────────────────┼──────────────────────────┤\n",
       "│ British Indian Ocean Territory │ IO            │ IOT           │           86 │ ISO 3166-2:IO │ Africa  │ Sub-Saharan Africa │ Eastern Africa      │           2 │             202 │                       14 │\n",
       "│ Burundi                        │ BI            │ BDI           │          108 │ ISO 3166-2:BI │ Africa  │ Sub-Saharan Africa │ Eastern Africa      │           2 │             202 │                       14 │\n",
       "│ Comoros                        │ KM            │ COM           │          174 │ ISO 3166-2:KM │ Africa  │ Sub-Saharan Africa │ Eastern Africa      │           2 │             202 │                       14 │\n",
       "│ Djibouti                       │ DJ            │ DJI           │          262 │ ISO 3166-2:DJ │ Africa  │ Sub-Saharan Africa │ Eastern Africa      │           2 │             202 │                       14 │\n",
       "│ Eritrea                        │ ER            │ ERI           │          232 │ ISO 3166-2:ER │ Africa  │ Sub-Saharan Africa │ Eastern Africa      │           2 │             202 │                       14 │\n",
       "│ Ethiopia                       │ ET            │ ETH           │          231 │ ISO 3166-2:ET │ Africa  │ Sub-Saharan Africa │ Eastern Africa      │           2 │             202 │                       14 │\n",
       "│ French Southern Territories    │ TF            │ ATF           │          260 │ ISO 3166-2:TF │ Africa  │ Sub-Saharan Africa │ Eastern Africa      │           2 │             202 │                       14 │\n",
       "│ Kenya                          │ KE            │ KEN           │          404 │ ISO 3166-2:KE │ Africa  │ Sub-Saharan Africa │ Eastern Africa      │           2 │             202 │                       14 │\n",
       "│ Madagascar                     │ MG            │ MDG           │          450 │ ISO 3166-2:MG │ Africa  │ Sub-Saharan Africa │ Eastern Africa      │           2 │             202 │                       14 │\n",
       "│ Malawi                         │ MW            │ MWI           │          454 │ ISO 3166-2:MW │ Africa  │ Sub-Saharan Africa │ Eastern Africa      │           2 │             202 │                       14 │\n",
       "│ Mauritius                      │ MU            │ MUS           │          480 │ ISO 3166-2:MU │ Africa  │ Sub-Saharan Africa │ Eastern Africa      │           2 │             202 │                       14 │\n",
       "│ Mayotte                        │ YT            │ MYT           │          175 │ ISO 3166-2:YT │ Africa  │ Sub-Saharan Africa │ Eastern Africa      │           2 │             202 │                       14 │\n",
       "│ Mozambique                     │ MZ            │ MOZ           │          508 │ ISO 3166-2:MZ │ Africa  │ Sub-Saharan Africa │ Eastern Africa      │           2 │             202 │                       14 │\n",
       "│ Réunion                        │ RE            │ REU           │          638 │ ISO 3166-2:RE │ Africa  │ Sub-Saharan Africa │ Eastern Africa      │           2 │             202 │                       14 │\n",
       "│ Rwanda                         │ RW            │ RWA           │          646 │ ISO 3166-2:RW │ Africa  │ Sub-Saharan Africa │ Eastern Africa      │           2 │             202 │                       14 │\n",
       "│ Seychelles                     │ SC            │ SYC           │          690 │ ISO 3166-2:SC │ Africa  │ Sub-Saharan Africa │ Eastern Africa      │           2 │             202 │                       14 │\n",
       "│ Somalia                        │ SO            │ SOM           │          706 │ ISO 3166-2:SO │ Africa  │ Sub-Saharan Africa │ Eastern Africa      │           2 │             202 │                       14 │\n",
       "│ South Sudan                    │ SS            │ SSD           │          728 │ ISO 3166-2:SS │ Africa  │ Sub-Saharan Africa │ Eastern Africa      │           2 │             202 │                       14 │\n",
       "│ Tanzania, United Republic of   │ TZ            │ TZA           │          834 │ ISO 3166-2:TZ │ Africa  │ Sub-Saharan Africa │ Eastern Africa      │           2 │             202 │                       14 │\n",
       "│ Uganda                         │ UG            │ UGA           │          800 │ ISO 3166-2:UG │ Africa  │ Sub-Saharan Africa │ Eastern Africa      │           2 │             202 │                       14 │\n",
       "│ Zambia                         │ ZM            │ ZMB           │          894 │ ISO 3166-2:ZM │ Africa  │ Sub-Saharan Africa │ Eastern Africa      │           2 │             202 │                       14 │\n",
       "│ Zimbabwe                       │ ZW            │ ZWE           │          716 │ ISO 3166-2:ZW │ Africa  │ Sub-Saharan Africa │ Eastern Africa      │           2 │             202 │                       14 │\n",
       "├────────────────────────────────┴───────────────┴───────────────┴──────────────┴───────────────┴─────────┴────────────────────┴─────────────────────┴─────────────┴─────────────────┴──────────────────────────┤\n",
       "│ 22 rows                                                                                                                                                                                            11 columns │\n",
       "└───────────────────────────────────────────────────────────────────────────────────────────────────────────────────────────────────────────────────────────────────────────────────────────────────────────────┘"
      ]
     },
     "execution_count": 13,
     "metadata": {},
     "output_type": "execute_result"
    }
   ],
   "source": [
    "western_asia_ge = con.sql('''\n",
    "                            SELECT  *\n",
    "                                FROM\n",
    "                                    allcountries\n",
    "                                WHERE\n",
    "                                    region = 'Africa'\n",
    "                                    AND sub_region = 'Sub-Saharan Africa'\n",
    "                                    AND intermediate_region = 'Eastern Africa'\n",
    "                    ''')\n",
    "\n",
    "western_asia_ge"
   ]
  },
  {
   "cell_type": "markdown",
   "id": "00b45c9f-72f4-4168-bee7-60cf43b9d139",
   "metadata": {},
   "source": [
    "# Working with Data directly from files\n",
    "While DuckDB can ingest data from various formats, as discussed. DuckDB also gives a provision to read from these files into an in-memory DuckDB relation (table) and query them directly, to explore and work with data.\n",
    "\n"
   ]
  },
  {
   "cell_type": "code",
   "execution_count": 14,
   "id": "7dd67012-d856-45d6-9824-ba60d3c7ebeb",
   "metadata": {},
   "outputs": [
    {
     "data": {
      "text/plain": [
       "┌───────────────────┬─────────┬─────────┬──────────────┬───────────────┬─────────┬────────────┬─────────────────────┬─────────────┬─────────────────┬──────────────────────────┐\n",
       "│       name        │ alpha-2 │ alpha-3 │ country-code │  iso_3166-2   │ region  │ sub-region │ intermediate-region │ region-code │ sub-region-code │ intermediate-region-code │\n",
       "│      varchar      │ varchar │ varchar │   varchar    │    varchar    │ varchar │  varchar   │       varchar       │   varchar   │     varchar     │         varchar          │\n",
       "├───────────────────┼─────────┼─────────┼──────────────┼───────────────┼─────────┼────────────┼─────────────────────┼─────────────┼─────────────────┼──────────────────────────┤\n",
       "│ American Samoa    │ AS      │ ASM     │ 016          │ ISO 3166-2:AS │ Oceania │ Polynesia  │ NULL                │ 009         │ 061             │ NULL                     │\n",
       "│ Cook Islands      │ CK      │ COK     │ 184          │ ISO 3166-2:CK │ Oceania │ Polynesia  │ NULL                │ 009         │ 061             │ NULL                     │\n",
       "│ French Polynesia  │ PF      │ PYF     │ 258          │ ISO 3166-2:PF │ Oceania │ Polynesia  │ NULL                │ 009         │ 061             │ NULL                     │\n",
       "│ Niue              │ NU      │ NIU     │ 570          │ ISO 3166-2:NU │ Oceania │ Polynesia  │ NULL                │ 009         │ 061             │ NULL                     │\n",
       "│ Pitcairn          │ PN      │ PCN     │ 612          │ ISO 3166-2:PN │ Oceania │ Polynesia  │ NULL                │ 009         │ 061             │ NULL                     │\n",
       "│ Samoa             │ WS      │ WSM     │ 882          │ ISO 3166-2:WS │ Oceania │ Polynesia  │ NULL                │ 009         │ 061             │ NULL                     │\n",
       "│ Tokelau           │ TK      │ TKL     │ 772          │ ISO 3166-2:TK │ Oceania │ Polynesia  │ NULL                │ 009         │ 061             │ NULL                     │\n",
       "│ Tonga             │ TO      │ TON     │ 776          │ ISO 3166-2:TO │ Oceania │ Polynesia  │ NULL                │ 009         │ 061             │ NULL                     │\n",
       "│ Tuvalu            │ TV      │ TUV     │ 798          │ ISO 3166-2:TV │ Oceania │ Polynesia  │ NULL                │ 009         │ 061             │ NULL                     │\n",
       "│ Wallis and Futuna │ WF      │ WLF     │ 876          │ ISO 3166-2:WF │ Oceania │ Polynesia  │ NULL                │ 009         │ 061             │ NULL                     │\n",
       "├───────────────────┴─────────┴─────────┴──────────────┴───────────────┴─────────┴────────────┴─────────────────────┴─────────────┴─────────────────┴──────────────────────────┤\n",
       "│ 10 rows                                                                                                                                                           11 columns │\n",
       "└──────────────────────────────────────────────────────────────────────────────────────────────────────────────────────────────────────────────────────────────────────────────┘"
      ]
     },
     "execution_count": 14,
     "metadata": {},
     "output_type": "execute_result"
    }
   ],
   "source": [
    "relation = con.sql('''\n",
    "                        SELECT  *\n",
    "                            FROM\n",
    "                                'all.csv'\n",
    "                            WHERE\n",
    "                                region = 'Oceania'\n",
    "                                AND \"sub-region\" = 'Polynesia'\n",
    "                ''')\n",
    "relation"
   ]
  },
  {
   "cell_type": "code",
   "execution_count": 22,
   "id": "5797ac08-16bd-419c-b1aa-1a6a80e82b19",
   "metadata": {},
   "outputs": [
    {
     "data": {
      "text/plain": [
       "duckdb.duckdb.DuckDBPyRelation"
      ]
     },
     "execution_count": 22,
     "metadata": {},
     "output_type": "execute_result"
    }
   ],
   "source": [
    "type(relation)"
   ]
  },
  {
   "cell_type": "code",
   "execution_count": 17,
   "id": "536c7ed8-1333-48d2-998c-e8351e88657c",
   "metadata": {},
   "outputs": [],
   "source": [
    "# These are known as DuckDB relation objects. We can display all data in these `relations`, as demonstrated above, or extract them as a list of tuples using the `fetchall` method of these relations.\n",
    "\n",
    "all_relation = relation.fetchall()\n"
   ]
  },
  {
   "cell_type": "code",
   "execution_count": 18,
   "id": "7f2c333a-7739-41c1-9a0d-8f0a60cf4294",
   "metadata": {},
   "outputs": [
    {
     "data": {
      "text/plain": [
       "list"
      ]
     },
     "execution_count": 18,
     "metadata": {},
     "output_type": "execute_result"
    }
   ],
   "source": [
    "type(all_relation)"
   ]
  },
  {
   "cell_type": "code",
   "execution_count": 19,
   "id": "3fb3e290-65a2-4395-945d-0d15befa157a",
   "metadata": {},
   "outputs": [
    {
     "data": {
      "text/plain": [
       "tuple"
      ]
     },
     "execution_count": 19,
     "metadata": {},
     "output_type": "execute_result"
    }
   ],
   "source": [
    "type(all_relation[0])"
   ]
  },
  {
   "cell_type": "code",
   "execution_count": 20,
   "id": "5d3c43f9-59ec-43bb-99eb-906e7ebf81d2",
   "metadata": {},
   "outputs": [
    {
     "data": {
      "text/plain": [
       "('American Samoa',\n",
       " 'AS',\n",
       " 'ASM',\n",
       " '016',\n",
       " 'ISO 3166-2:AS',\n",
       " 'Oceania',\n",
       " 'Polynesia',\n",
       " None,\n",
       " '009',\n",
       " '061',\n",
       " None)"
      ]
     },
     "execution_count": 20,
     "metadata": {},
     "output_type": "execute_result"
    }
   ],
   "source": [
    "all_relation[0]"
   ]
  },
  {
   "cell_type": "markdown",
   "id": "0b27aa6f-fada-44a7-806c-848840a93430",
   "metadata": {},
   "source": [
    "# Integrating with Pandas\n",
    "One of DuckDB’s most powerful features is its compatibility with `Pandas` (and other libraries like Polars etc.). You can run SQL queries directly on Pandas DataFrames or convert query results into DataFrames.\n",
    "\n"
   ]
  },
  {
   "cell_type": "code",
   "execution_count": 23,
   "id": "c969d910-796e-4b11-b662-db1b6d070ade",
   "metadata": {},
   "outputs": [
    {
     "data": {
      "text/html": [
       "<div>\n",
       "<style scoped>\n",
       "    .dataframe tbody tr th:only-of-type {\n",
       "        vertical-align: middle;\n",
       "    }\n",
       "\n",
       "    .dataframe tbody tr th {\n",
       "        vertical-align: top;\n",
       "    }\n",
       "\n",
       "    .dataframe thead th {\n",
       "        text-align: right;\n",
       "    }\n",
       "</style>\n",
       "<table border=\"1\" class=\"dataframe\">\n",
       "  <thead>\n",
       "    <tr style=\"text-align: right;\">\n",
       "      <th></th>\n",
       "      <th>name</th>\n",
       "      <th>alpha-2</th>\n",
       "      <th>alpha-3</th>\n",
       "      <th>country-code</th>\n",
       "      <th>iso_3166-2</th>\n",
       "      <th>region</th>\n",
       "      <th>sub-region</th>\n",
       "      <th>intermediate-region</th>\n",
       "      <th>region-code</th>\n",
       "      <th>sub-region-code</th>\n",
       "      <th>intermediate-region-code</th>\n",
       "    </tr>\n",
       "  </thead>\n",
       "  <tbody>\n",
       "    <tr>\n",
       "      <th>0</th>\n",
       "      <td>American Samoa</td>\n",
       "      <td>AS</td>\n",
       "      <td>ASM</td>\n",
       "      <td>016</td>\n",
       "      <td>ISO 3166-2:AS</td>\n",
       "      <td>Oceania</td>\n",
       "      <td>Polynesia</td>\n",
       "      <td>None</td>\n",
       "      <td>009</td>\n",
       "      <td>061</td>\n",
       "      <td>None</td>\n",
       "    </tr>\n",
       "    <tr>\n",
       "      <th>1</th>\n",
       "      <td>Cook Islands</td>\n",
       "      <td>CK</td>\n",
       "      <td>COK</td>\n",
       "      <td>184</td>\n",
       "      <td>ISO 3166-2:CK</td>\n",
       "      <td>Oceania</td>\n",
       "      <td>Polynesia</td>\n",
       "      <td>None</td>\n",
       "      <td>009</td>\n",
       "      <td>061</td>\n",
       "      <td>None</td>\n",
       "    </tr>\n",
       "    <tr>\n",
       "      <th>2</th>\n",
       "      <td>French Polynesia</td>\n",
       "      <td>PF</td>\n",
       "      <td>PYF</td>\n",
       "      <td>258</td>\n",
       "      <td>ISO 3166-2:PF</td>\n",
       "      <td>Oceania</td>\n",
       "      <td>Polynesia</td>\n",
       "      <td>None</td>\n",
       "      <td>009</td>\n",
       "      <td>061</td>\n",
       "      <td>None</td>\n",
       "    </tr>\n",
       "    <tr>\n",
       "      <th>3</th>\n",
       "      <td>Niue</td>\n",
       "      <td>NU</td>\n",
       "      <td>NIU</td>\n",
       "      <td>570</td>\n",
       "      <td>ISO 3166-2:NU</td>\n",
       "      <td>Oceania</td>\n",
       "      <td>Polynesia</td>\n",
       "      <td>None</td>\n",
       "      <td>009</td>\n",
       "      <td>061</td>\n",
       "      <td>None</td>\n",
       "    </tr>\n",
       "    <tr>\n",
       "      <th>4</th>\n",
       "      <td>Pitcairn</td>\n",
       "      <td>PN</td>\n",
       "      <td>PCN</td>\n",
       "      <td>612</td>\n",
       "      <td>ISO 3166-2:PN</td>\n",
       "      <td>Oceania</td>\n",
       "      <td>Polynesia</td>\n",
       "      <td>None</td>\n",
       "      <td>009</td>\n",
       "      <td>061</td>\n",
       "      <td>None</td>\n",
       "    </tr>\n",
       "    <tr>\n",
       "      <th>5</th>\n",
       "      <td>Samoa</td>\n",
       "      <td>WS</td>\n",
       "      <td>WSM</td>\n",
       "      <td>882</td>\n",
       "      <td>ISO 3166-2:WS</td>\n",
       "      <td>Oceania</td>\n",
       "      <td>Polynesia</td>\n",
       "      <td>None</td>\n",
       "      <td>009</td>\n",
       "      <td>061</td>\n",
       "      <td>None</td>\n",
       "    </tr>\n",
       "    <tr>\n",
       "      <th>6</th>\n",
       "      <td>Tokelau</td>\n",
       "      <td>TK</td>\n",
       "      <td>TKL</td>\n",
       "      <td>772</td>\n",
       "      <td>ISO 3166-2:TK</td>\n",
       "      <td>Oceania</td>\n",
       "      <td>Polynesia</td>\n",
       "      <td>None</td>\n",
       "      <td>009</td>\n",
       "      <td>061</td>\n",
       "      <td>None</td>\n",
       "    </tr>\n",
       "    <tr>\n",
       "      <th>7</th>\n",
       "      <td>Tonga</td>\n",
       "      <td>TO</td>\n",
       "      <td>TON</td>\n",
       "      <td>776</td>\n",
       "      <td>ISO 3166-2:TO</td>\n",
       "      <td>Oceania</td>\n",
       "      <td>Polynesia</td>\n",
       "      <td>None</td>\n",
       "      <td>009</td>\n",
       "      <td>061</td>\n",
       "      <td>None</td>\n",
       "    </tr>\n",
       "    <tr>\n",
       "      <th>8</th>\n",
       "      <td>Tuvalu</td>\n",
       "      <td>TV</td>\n",
       "      <td>TUV</td>\n",
       "      <td>798</td>\n",
       "      <td>ISO 3166-2:TV</td>\n",
       "      <td>Oceania</td>\n",
       "      <td>Polynesia</td>\n",
       "      <td>None</td>\n",
       "      <td>009</td>\n",
       "      <td>061</td>\n",
       "      <td>None</td>\n",
       "    </tr>\n",
       "    <tr>\n",
       "      <th>9</th>\n",
       "      <td>Wallis and Futuna</td>\n",
       "      <td>WF</td>\n",
       "      <td>WLF</td>\n",
       "      <td>876</td>\n",
       "      <td>ISO 3166-2:WF</td>\n",
       "      <td>Oceania</td>\n",
       "      <td>Polynesia</td>\n",
       "      <td>None</td>\n",
       "      <td>009</td>\n",
       "      <td>061</td>\n",
       "      <td>None</td>\n",
       "    </tr>\n",
       "  </tbody>\n",
       "</table>\n",
       "</div>"
      ],
      "text/plain": [
       "                name alpha-2 alpha-3 country-code     iso_3166-2   region  \\\n",
       "0     American Samoa      AS     ASM          016  ISO 3166-2:AS  Oceania   \n",
       "1       Cook Islands      CK     COK          184  ISO 3166-2:CK  Oceania   \n",
       "2   French Polynesia      PF     PYF          258  ISO 3166-2:PF  Oceania   \n",
       "3               Niue      NU     NIU          570  ISO 3166-2:NU  Oceania   \n",
       "4           Pitcairn      PN     PCN          612  ISO 3166-2:PN  Oceania   \n",
       "5              Samoa      WS     WSM          882  ISO 3166-2:WS  Oceania   \n",
       "6            Tokelau      TK     TKL          772  ISO 3166-2:TK  Oceania   \n",
       "7              Tonga      TO     TON          776  ISO 3166-2:TO  Oceania   \n",
       "8             Tuvalu      TV     TUV          798  ISO 3166-2:TV  Oceania   \n",
       "9  Wallis and Futuna      WF     WLF          876  ISO 3166-2:WF  Oceania   \n",
       "\n",
       "  sub-region intermediate-region region-code sub-region-code  \\\n",
       "0  Polynesia                None         009             061   \n",
       "1  Polynesia                None         009             061   \n",
       "2  Polynesia                None         009             061   \n",
       "3  Polynesia                None         009             061   \n",
       "4  Polynesia                None         009             061   \n",
       "5  Polynesia                None         009             061   \n",
       "6  Polynesia                None         009             061   \n",
       "7  Polynesia                None         009             061   \n",
       "8  Polynesia                None         009             061   \n",
       "9  Polynesia                None         009             061   \n",
       "\n",
       "  intermediate-region-code  \n",
       "0                     None  \n",
       "1                     None  \n",
       "2                     None  \n",
       "3                     None  \n",
       "4                     None  \n",
       "5                     None  \n",
       "6                     None  \n",
       "7                     None  \n",
       "8                     None  \n",
       "9                     None  "
      ]
     },
     "execution_count": 23,
     "metadata": {},
     "output_type": "execute_result"
    }
   ],
   "source": [
    "# Example: Converting to Pandas DataFrames\n",
    "\n",
    "relation.to_df()"
   ]
  },
  {
   "cell_type": "code",
   "execution_count": 24,
   "id": "be637097-8cd3-4fd5-bcd8-fe791325e712",
   "metadata": {},
   "outputs": [
    {
     "data": {
      "text/plain": [
       "┌───────┬────────────┬───────┬──────────┐\n",
       "│  id   │    name    │  age  │  salary  │\n",
       "│ int32 │  varchar   │ int32 │  double  │\n",
       "├───────┼────────────┼───────┼──────────┤\n",
       "│     1 │ Person 1   │    30 │  70000.0 │\n",
       "│     2 │ Person 2   │    25 │  55000.0 │\n",
       "│     3 │ Person 3   │    35 │  80000.0 │\n",
       "│     4 │ Person 4   │    45 │  87000.0 │\n",
       "│     5 │ Person 5   │    43 │  40000.0 │\n",
       "│     6 │ Person 6   │    65 │  48000.0 │\n",
       "│    17 │ employee17 │    56 │ 100000.0 │\n",
       "│    18 │ employee18 │    76 │ 125000.0 │\n",
       "│    19 │ employee19 │    66 │  90000.0 │\n",
       "│    20 │ employee20 │    45 │ 100000.0 │\n",
       "│    14 │ Person 14  │    45 │ 100000.0 │\n",
       "│    15 │ Person 15  │    40 │  85000.0 │\n",
       "│    16 │ Person 16  │    35 │  75000.0 │\n",
       "├───────┴────────────┴───────┴──────────┤\n",
       "│ 13 rows                     4 columns │\n",
       "└───────────────────────────────────────┘"
      ]
     },
     "execution_count": 24,
     "metadata": {},
     "output_type": "execute_result"
    }
   ],
   "source": [
    "# Example: Querying Pandas DataFrames directly\n",
    "\n",
    "import pandas as pd\n",
    "\n",
    "df = pd.DataFrame({\n",
    "    'id': [14, 15, 16],\n",
    "    'name': ['Person 14', 'Person 15', 'Person 16'],\n",
    "    'age': [45, 40, 35],\n",
    "    'salary': [100000, 85000, 75000]\n",
    "})\n",
    "\n",
    "con.sql('''\n",
    "        INSERT INTO employees (id, name, age, salary)\n",
    "        SELECT * FROM df\n",
    "''')\n",
    "\n",
    "con.sql('select * from employees')"
   ]
  },
  {
   "cell_type": "code",
   "execution_count": 25,
   "id": "92a293b1-3a73-476f-a4ab-44e5d86607d6",
   "metadata": {},
   "outputs": [
    {
     "data": {
      "text/html": [
       "<div>\n",
       "<style scoped>\n",
       "    .dataframe tbody tr th:only-of-type {\n",
       "        vertical-align: middle;\n",
       "    }\n",
       "\n",
       "    .dataframe tbody tr th {\n",
       "        vertical-align: top;\n",
       "    }\n",
       "\n",
       "    .dataframe thead th {\n",
       "        text-align: right;\n",
       "    }\n",
       "</style>\n",
       "<table border=\"1\" class=\"dataframe\">\n",
       "  <thead>\n",
       "    <tr style=\"text-align: right;\">\n",
       "      <th></th>\n",
       "      <th>id</th>\n",
       "      <th>name</th>\n",
       "      <th>age</th>\n",
       "      <th>salary</th>\n",
       "    </tr>\n",
       "  </thead>\n",
       "  <tbody>\n",
       "    <tr>\n",
       "      <th>0</th>\n",
       "      <td>14</td>\n",
       "      <td>Person 14</td>\n",
       "      <td>45</td>\n",
       "      <td>100000</td>\n",
       "    </tr>\n",
       "    <tr>\n",
       "      <th>1</th>\n",
       "      <td>15</td>\n",
       "      <td>Person 15</td>\n",
       "      <td>40</td>\n",
       "      <td>85000</td>\n",
       "    </tr>\n",
       "    <tr>\n",
       "      <th>2</th>\n",
       "      <td>16</td>\n",
       "      <td>Person 16</td>\n",
       "      <td>35</td>\n",
       "      <td>75000</td>\n",
       "    </tr>\n",
       "  </tbody>\n",
       "</table>\n",
       "</div>"
      ],
      "text/plain": [
       "   id       name  age  salary\n",
       "0  14  Person 14   45  100000\n",
       "1  15  Person 15   40   85000\n",
       "2  16  Person 16   35   75000"
      ]
     },
     "execution_count": 25,
     "metadata": {},
     "output_type": "execute_result"
    }
   ],
   "source": [
    "con.sql('SELECT * FROM df').df()"
   ]
  },
  {
   "cell_type": "markdown",
   "id": "e1f1b201-feb9-46ca-93d1-d0e4fbd0ec52",
   "metadata": {},
   "source": [
    "# Working with Parquet and Arrow\n",
    "DuckDB also supports efficient handling of Parquet and Arrow formats, commonly used in big data scenarios. You can read data from Parquet files and run SQL queries on them without first loading them into memory.\n",
    "\n"
   ]
  },
  {
   "cell_type": "code",
   "execution_count": null,
   "id": "2969d3a3-8a17-4728-8b0a-461bdb201c79",
   "metadata": {},
   "outputs": [],
   "source": [
    "# Example: Reading from Parquet Files\n",
    "\n",
    "# Read data from a Parquet file\n",
    "con.sql(\"SELECT * FROM 'countries.parquet'\").df().head()"
   ]
  },
  {
   "cell_type": "code",
   "execution_count": null,
   "id": "4227511e-33a5-406f-8352-ea06faf639a5",
   "metadata": {},
   "outputs": [],
   "source": [
    "# Similarly, DuckDB integrates well with Apache Arrow and supports operations on Arrow tables.\n",
    "\n",
    "# Advanced Queries and Using DuckDB for Analytical Workloads\n",
    "# DuckDB is optimized for performance, especially for analytical queries. DuckDB’s architecture, particularly its use of vectorized execution and columnar storage, helps DuckDB to speed up query processing and make it extremely efficient for data analytics. Additionally, DuckDB can operate directly on compressed data formats like Parquet, reducing the need for data decompression.\n",
    "\n",
    "# Window Functions: You can perform windowing operations (e.g., running totals, and moving averages, etc.).\n",
    "# Group By: Complex group-by operations with large datasets are optimized.\n",
    "# Parallel Execution: DuckDB automatically parallelizes many operations for faster results on large datasets."
   ]
  },
  {
   "cell_type": "code",
   "execution_count": 28,
   "id": "2671f692-2597-4df1-a189-885c13956a24",
   "metadata": {},
   "outputs": [
    {
     "data": {
      "text/plain": [
       "┌──────────────┐\n",
       "│     name     │\n",
       "│   varchar    │\n",
       "├──────────────┤\n",
       "│ allcountries │\n",
       "│ countries1   │\n",
       "│ employees    │\n",
       "└──────────────┘"
      ]
     },
     "execution_count": 28,
     "metadata": {},
     "output_type": "execute_result"
    }
   ],
   "source": [
    "con.sql(\"show tables\")"
   ]
  },
  {
   "cell_type": "code",
   "execution_count": 29,
   "id": "4c9dbf65-e94e-4b95-937f-9d998eb5f21c",
   "metadata": {},
   "outputs": [
    {
     "data": {
      "text/plain": [
       "┌──────────┬────────────────┐\n",
       "│  region  │ country_counts │\n",
       "│ varchar  │     int64      │\n",
       "├──────────┼────────────────┤\n",
       "│ Africa   │             60 │\n",
       "│ Americas │             57 │\n",
       "│ Europe   │             51 │\n",
       "│ Asia     │             50 │\n",
       "│ Oceania  │             29 │\n",
       "│ NULL     │              2 │\n",
       "└──────────┴────────────────┘"
      ]
     },
     "execution_count": 29,
     "metadata": {},
     "output_type": "execute_result"
    }
   ],
   "source": [
    "# Example: Group and count countries by their regions.\n",
    "\n",
    "con.sql('''\n",
    "        SELECT  region\n",
    "                , COUNT(DISTINCT country) AS country_counts\n",
    "            FROM\n",
    "                allcountries\n",
    "            GROUP BY\n",
    "                region\n",
    "            ORDER BY\n",
    "                country_counts DESC\n",
    "''')"
   ]
  },
  {
   "cell_type": "code",
   "execution_count": 30,
   "id": "f45474e7-fbad-4d88-8a28-85c49471ac06",
   "metadata": {},
   "outputs": [
    {
     "data": {
      "text/plain": [
       "┌──────────┬────────────────┐\n",
       "│  region  │ country_counts │\n",
       "│ varchar  │     int64      │\n",
       "├──────────┼────────────────┤\n",
       "│ Africa   │             60 │\n",
       "│ Americas │             57 │\n",
       "│ Europe   │             51 │\n",
       "│ Asia     │             50 │\n",
       "│ Oceania  │             29 │\n",
       "│ NULL     │              2 │\n",
       "└──────────┴────────────────┘"
      ]
     },
     "execution_count": 30,
     "metadata": {},
     "output_type": "execute_result"
    }
   ],
   "source": [
    "# Example: Group and count countries by their regions.\n",
    "\n",
    "con.sql('''\n",
    "        SELECT  region\n",
    "                , COUNT(DISTINCT country) AS country_counts\n",
    "            FROM\n",
    "                countries1\n",
    "            GROUP BY\n",
    "                region\n",
    "            ORDER BY\n",
    "                country_counts DESC\n",
    "''')"
   ]
  },
  {
   "cell_type": "code",
   "execution_count": 31,
   "id": "6715f291-960c-4b0e-b42e-a519f2ed4965",
   "metadata": {},
   "outputs": [
    {
     "data": {
      "text/plain": [
       "┌───────┬────────────┬───────┬──────────┐\n",
       "│  id   │    name    │  age  │  salary  │\n",
       "│ int32 │  varchar   │ int32 │  double  │\n",
       "├───────┼────────────┼───────┼──────────┤\n",
       "│     4 │ Person 4   │    45 │  87000.0 │\n",
       "│    17 │ employee17 │    56 │ 100000.0 │\n",
       "│    18 │ employee18 │    76 │ 125000.0 │\n",
       "│    19 │ employee19 │    66 │  90000.0 │\n",
       "│    20 │ employee20 │    45 │ 100000.0 │\n",
       "│    14 │ Person 14  │    45 │ 100000.0 │\n",
       "│    15 │ Person 15  │    40 │  85000.0 │\n",
       "└───────┴────────────┴───────┴──────────┘"
      ]
     },
     "execution_count": 31,
     "metadata": {},
     "output_type": "execute_result"
    }
   ],
   "source": [
    "# Example: Calculate the average salary and find people with above average salary.\n",
    "\n",
    "# Writing CTE's\n",
    "con.sql('''\n",
    "        WITH avg_salary AS (\n",
    "            SELECT\n",
    "                    ROUND(AVG(salary),2) AS avg_salary\n",
    "                FROM\n",
    "                    employees\n",
    "            )\n",
    "        \n",
    "        SELECT\n",
    "                *\n",
    "            FROM\n",
    "                employees\n",
    "            WHERE\n",
    "                salary > (SELECT avg_salary FROM avg_salary)\n",
    "        \n",
    "''')"
   ]
  },
  {
   "cell_type": "code",
   "execution_count": 32,
   "id": "92c9cdeb-fac4-4d55-8239-43ff5e8bfc77",
   "metadata": {},
   "outputs": [],
   "source": [
    "# Closing the Connection:\n",
    "\n",
    "con.close()"
   ]
  }
 ],
 "metadata": {
  "kernelspec": {
   "display_name": "Python 3 (ipykernel)",
   "language": "python",
   "name": "python3"
  },
  "language_info": {
   "codemirror_mode": {
    "name": "ipython",
    "version": 3
   },
   "file_extension": ".py",
   "mimetype": "text/x-python",
   "name": "python",
   "nbconvert_exporter": "python",
   "pygments_lexer": "ipython3",
   "version": "3.9.13"
  }
 },
 "nbformat": 4,
 "nbformat_minor": 5
}
